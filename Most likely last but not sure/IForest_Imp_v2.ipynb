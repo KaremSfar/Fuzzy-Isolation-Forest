{
  "nbformat": 4,
  "nbformat_minor": 0,
  "metadata": {
    "colab": {
      "name": "IForest_Imp_v2.ipynb",
      "provenance": [],
      "collapsed_sections": [],
      "toc_visible": true
    },
    "kernelspec": {
      "name": "python3",
      "display_name": "Python 3"
    },
    "language_info": {
      "name": "python"
    }
  },
  "cells": [
    {
      "cell_type": "markdown",
      "metadata": {
        "id": "-ByZrPe9wR_U"
      },
      "source": [
        "# Imports\n",
        "\n"
      ]
    },
    {
      "cell_type": "code",
      "metadata": {
        "id": "j_F-GSL-wKdz"
      },
      "source": [
        "import warnings\n",
        "warnings.simplefilter('ignore')"
      ],
      "execution_count": null,
      "outputs": []
    },
    {
      "cell_type": "code",
      "metadata": {
        "id": "8nDwzWZPKlMq",
        "colab": {
          "base_uri": "https://localhost:8080/"
        },
        "outputId": "aa17337c-5605-435e-d88e-7043115a2656"
      },
      "source": [
        "!pip install openml;"
      ],
      "execution_count": null,
      "outputs": [
        {
          "output_type": "stream",
          "text": [
            "Requirement already satisfied: openml in /usr/local/lib/python3.7/dist-packages (0.12.2)\n",
            "Requirement already satisfied: minio in /usr/local/lib/python3.7/dist-packages (from openml) (7.0.3)\n",
            "Requirement already satisfied: python-dateutil in /usr/local/lib/python3.7/dist-packages (from openml) (2.8.1)\n",
            "Requirement already satisfied: numpy>=1.6.2 in /usr/local/lib/python3.7/dist-packages (from openml) (1.19.5)\n",
            "Requirement already satisfied: xmltodict in /usr/local/lib/python3.7/dist-packages (from openml) (0.12.0)\n",
            "Requirement already satisfied: requests in /usr/local/lib/python3.7/dist-packages (from openml) (2.23.0)\n",
            "Requirement already satisfied: pandas>=1.0.0 in /usr/local/lib/python3.7/dist-packages (from openml) (1.1.5)\n",
            "Requirement already satisfied: scipy>=0.13.3 in /usr/local/lib/python3.7/dist-packages (from openml) (1.4.1)\n",
            "Requirement already satisfied: pyarrow in /usr/local/lib/python3.7/dist-packages (from openml) (3.0.0)\n",
            "Requirement already satisfied: liac-arff>=2.4.0 in /usr/local/lib/python3.7/dist-packages (from openml) (2.5.0)\n",
            "Requirement already satisfied: scikit-learn>=0.18 in /usr/local/lib/python3.7/dist-packages (from openml) (0.22.2.post1)\n",
            "Requirement already satisfied: urllib3 in /usr/local/lib/python3.7/dist-packages (from minio->openml) (1.24.3)\n",
            "Requirement already satisfied: certifi in /usr/local/lib/python3.7/dist-packages (from minio->openml) (2020.12.5)\n",
            "Requirement already satisfied: six>=1.5 in /usr/local/lib/python3.7/dist-packages (from python-dateutil->openml) (1.15.0)\n",
            "Requirement already satisfied: idna<3,>=2.5 in /usr/local/lib/python3.7/dist-packages (from requests->openml) (2.10)\n",
            "Requirement already satisfied: chardet<4,>=3.0.2 in /usr/local/lib/python3.7/dist-packages (from requests->openml) (3.0.4)\n",
            "Requirement already satisfied: pytz>=2017.2 in /usr/local/lib/python3.7/dist-packages (from pandas>=1.0.0->openml) (2018.9)\n",
            "Requirement already satisfied: joblib>=0.11 in /usr/local/lib/python3.7/dist-packages (from scikit-learn>=0.18->openml) (1.0.1)\n"
          ],
          "name": "stdout"
        }
      ]
    },
    {
      "cell_type": "code",
      "metadata": {
        "id": "YEgH57-9MG2h"
      },
      "source": [
        "%%capture \n",
        "!pip install scikit-fuzzy"
      ],
      "execution_count": null,
      "outputs": []
    },
    {
      "cell_type": "code",
      "metadata": {
        "id": "r7uUcJo7wYSM"
      },
      "source": [
        "import math\n",
        "import pandas as pd\n",
        "import openml\n",
        "from sklearn.model_selection import train_test_split\n",
        "from sklearn.utils import shuffle\n",
        "import numpy as np\n",
        "from typing import List"
      ],
      "execution_count": null,
      "outputs": []
    },
    {
      "cell_type": "code",
      "metadata": {
        "id": "QRp2J5V5MFQi"
      },
      "source": [
        "import skfuzzy as fuzz\n",
        "import numpy as np\n",
        "from skfuzzy import control as ctrl"
      ],
      "execution_count": null,
      "outputs": []
    },
    {
      "cell_type": "code",
      "metadata": {
        "id": "Z6qUyUcOxWQq"
      },
      "source": [
        "import abc"
      ],
      "execution_count": null,
      "outputs": []
    },
    {
      "cell_type": "markdown",
      "metadata": {
        "id": "HkKemkmlwgIc"
      },
      "source": [
        "#  New Implementation\n",
        " "
      ]
    },
    {
      "cell_type": "markdown",
      "metadata": {
        "id": "TzQFAPlxb9MQ"
      },
      "source": [
        "## abstract class"
      ]
    },
    {
      "cell_type": "code",
      "metadata": {
        "id": "XAwzi0Ekyx3G"
      },
      "source": [
        "class Fuzzifier():\n",
        "  \"\"\"\n",
        "  Fuzzifier class: given a DataFrame of Crisp Data Return corresponding fuzzified data\n",
        "  ----------\n",
        "  Parameters\n",
        "  ----------\n",
        "  x : dataframe-like\n",
        "      Universe variables. Contains the features data (must be numerical)\n",
        "      Required.\n",
        "  modalities : Dictionnary where every key corresponds to a feature\n",
        "      and values are either an object containing the modalities as keys, and the membership function (or 'auto') as value,\n",
        "      or auto as key and the number of modalities as value . Optional.\n",
        "      exemple: {'age': {'old': {'trimf': [0,1,2]}, 'young': {'gaussmf': [0,1]}}}\n",
        "      exemple2: {'age': {'auto' : 3}}\n",
        "  Methods\n",
        "  -------\n",
        "  \"\"\"\n",
        "  def __init__(self, x, modalities = {}):\n",
        "    self.x = x\n",
        "    self.modalities = modalities\n",
        "    self.variables = OrderedDict()\n",
        "    self.df = pd.DataFrame()\n",
        "\n",
        "\n",
        "  def __getitem__(self, key):\n",
        "        \"\"\"\n",
        "        Calling `fuzzifier['label']` will return the 'label' fuzzy variable\n",
        "        \"\"\"\n",
        "        if key in self.variables.keys():\n",
        "            return self.variables[key]\n",
        "        else:\n",
        "            # Build a pretty list of available fuzzy variables and raise an\n",
        "            # informative error message\n",
        "            options = '['\n",
        "            for available_key in self.variables.keys():\n",
        "              options += \"'\" + str(available_key) + \"',\"\n",
        "            options += ']'\n",
        "            raise ValueError(\"Fuzzy Variable {0}' does not exist.\\n \"\n",
        "                             \"Available options: {1}\".format(key, options))\n",
        "            \n",
        "\n",
        "  \n",
        "  def fuzzify(self):\n",
        "    \"\"\"\n",
        "    The fuzzifying procedure, takes no params.\n",
        "    \"\"\"\n",
        "    # TODO: verify params passed and raise errors if any problem\n",
        "\n",
        "    for variable_name in self.x.columns:\n",
        "      # Create the FuzzyVariable object\n",
        "      fuzzyVar = ctrl.Antecedent(self.x[variable_name], variable_name)\n",
        "      \n",
        "      # check if key is present in modalities, if it is create modalities else auto\n",
        "      if variable_name in self.modalities.keys():\n",
        "        self.__fuzzify_numerical_in_modalities(variable_name,fuzzyVar)\n",
        "       \n",
        "\n",
        "      else:\n",
        "        # If variable name neither categorical nor present in the passed object\n",
        "        fuzzyVar.automf(3)\n",
        "\n",
        "      self.variables[variable_name] = fuzzyVar\n",
        "\n",
        "    # If the fuzzy method is recalled, recreate the DataFrame on toDataFrame method call\n",
        "    self.df = pd.DataFrame()\n",
        "\n",
        "\n",
        "  def __fuzzify_numerical_in_modalities(self, variable_name,fuzzyVar):\n",
        "\n",
        "     # Get modalities corresponding to that feature name\n",
        "      modalities = self.modalities[variable_name]\n",
        "\n",
        "      # check if the modalities object is {'auto': 3/5/7} create the memberships automatically \n",
        "      if (next(iter(modalities)) == 'auto'):\n",
        "        # Get number of triangular membership function (3, 5 or 7)\n",
        "        n = modalities['auto']\n",
        "\n",
        "        # Auto Generate membership functions\n",
        "        fuzzyVar.automf(n);\n",
        "\n",
        "      else :\n",
        "        # For each modality (like 'old' or 'young') add the membership function to the fuzzy var\n",
        "        for modality in modalities.items():\n",
        "\n",
        "          # Assign membership values to fuzzy var\n",
        "          # modality[0] is the modality name, modality[1] is the membership + values dict\n",
        "          fuzzyVar[modality[0]] = self.__getMembership(fuzzyVar.universe, modality[1])\n",
        "\n",
        "  # Utility method returning the sci-kit fuzzy membership function given the name of the membership function\n",
        "  def __getMembership(self,x, membershipFunctionData):\n",
        "\n",
        "    # Get the membership function type; can be trimf, gaussmf or trapmf or auto\n",
        "    membership_name = next(iter(membershipFunctionData))\n",
        "\n",
        "    if (membership_name == 'trimf' ):\n",
        "      return fuzz.trimf(x, membershipFunctionData[membership_name])\n",
        "\n",
        "    if (membership_name == 'trapmf' ):\n",
        "      return fuzz.trapmf(x, membershipFunctionData[membership_name])\n",
        "\n",
        "    if (membership_name == 'gaussmf'):\n",
        "      return fuzz.gaussmf(x, membershipFunctionData[membership_name][0],membershipFunctionData[membership_name][1] )\n",
        "    return None\n",
        "\n",
        "  # After fuzzification, use this method to return a DataFrame containing the fuzzified Data\n",
        "  def toDataFrame(self):\n",
        "\n",
        "    # Only Generate the dictionnary once\n",
        "    if (not self.df.empty):\n",
        "      return self.df\n",
        "\n",
        "    self.df = pd.DataFrame({}, index = self.x.index)\n",
        "\n",
        "    for fuzzyVar_name, fuzzy_var in self.variables.items():\n",
        "      # create columns and append to DataFrame\n",
        "      for modality in fuzzy_var.terms:\n",
        "        self.df['{0};{1}'.format(fuzzyVar_name, modality)] = fuzzy_var[modality].mf\n",
        "    return self.df\n",
        "\n",
        "  def interpolate_new_entry(self, xx):\n",
        "    new_df = pd.DataFrame({}, index = [0])\n",
        "    for fuzzyVar_name, fuzzy_var in self.variables.items():\n",
        "      # create columns and append to DataFrame\n",
        "      for modality in fuzzy_var.terms:\n",
        "        new_df['{0};{1}'.format(fuzzyVar_name, modality)] = interpolate(self.x.loc[:,fuzzyVar_name],fuzzy_var[modality].mf, xx.loc[:,fuzzyVar_name])\n",
        "    return new_df\n",
        "  \n",
        "\n",
        "  def view(self):\n",
        "    \"\"\"\n",
        "    Show the membership functions to each variable\n",
        "    \"\"\"\n",
        "    for fuzzyVar_name, fuzzy_var in self.variables.items():\n",
        "      fig, ax = plt.subplots()\n",
        "      labels = []\n",
        "\n",
        "      for modality in fuzzy_var.terms:\n",
        "        labels.append(modality)\n",
        "        sns.lineplot(ax = ax, x = fuzzy_var.universe, y = fuzzy_var[modality].mf)\n",
        "      \n",
        "      ax.legend(labels = labels)\n",
        "      plt.title(fuzzyVar_name)\n",
        "      plt.show()"
      ],
      "execution_count": null,
      "outputs": []
    },
    {
      "cell_type": "code",
      "metadata": {
        "id": "WnZzrUGZKSRh"
      },
      "source": [
        "class Node:\n",
        "    def __init__(self, value, children=None,is_leaf=False,split_value=None,split_attribut=None):\n",
        "      self.value = value  \n",
        "      self.children = children\n",
        "      self.is_leaf = is_leaf\n",
        "      self.split_value=split_value\n",
        "      self.split_attribut=split_attribut  "
      ],
      "execution_count": null,
      "outputs": []
    },
    {
      "cell_type": "code",
      "metadata": {
        "id": "DrlUpFIWwdPC"
      },
      "source": [
        "class ICustomIForest:\n",
        "  \"\"\"\n",
        "  ICustomIForest abstract class: interface used to generate an Isolation Forest model \n",
        "  ----------\n",
        "  Parameters\n",
        "  ----------\n",
        "  number_of_trees : int\n",
        "      represent the number of trees generated in the forest\n",
        "  sample_size :int\n",
        "      represent the size of the sample used to generate the tree\n",
        "  contamination: float\n",
        "      The amount of contamination of the data set, i.e. the proportion of outliers in the data set. Used when fitting to define the threshold on the scores of the samples.\n",
        "      should be between [0,1]\n",
        "      default value equal to 0.1 \n",
        "  Methods\n",
        "  -------\n",
        "  \"\"\"\n",
        "\n",
        "  def __init__(self, number_of_trees: int,sample_size: int = 256,contamination: float = 0.1 ):\n",
        "    self.number_of_trees = number_of_trees\n",
        "    self.sample_size = sample_size\n",
        "    self.forest: List[Node] = None\n",
        "    self.contamination = contamination\n",
        "    self.threshold = None\n",
        "\n",
        "  # inner class node\n",
        "  # class Node:\n",
        "  #   def __init__(self, value, children: List[Node]=None,is_leaf=False,split_value=None,split_attribut=None):\n",
        "  #     self.value = value  \n",
        "  #     self.children = children\n",
        "  #     self.is_leaf = is_leaf\n",
        "  #     self.split_value=split_value\n",
        "  #     self.split_attribut=split_attribut  \n",
        "\n",
        "  def fit(self,set):\n",
        "    self.forest = self._iForest(set)\n",
        "    return self.forest\n",
        "\n",
        "  def _generate_threshold(self,scores):\n",
        "    self.threshold = np.percentile(scores,(1-self.contamination)*100)\n",
        "\n",
        "  #training Stage \n",
        "  @staticmethod \n",
        "  def _random_split(sample_set):\n",
        "    pass\n",
        "  \n",
        "  \n",
        "  def _iTree(self,sample_set,current_height: int,height_limit):\n",
        "    if current_height>= height_limit or sample_set.shape[0]<=1:\n",
        "        return Node(sample_set,is_leaf= True)\n",
        "    else:\n",
        "        partitions,random_split_value,random_attribut= type(self)._random_split(sample_set)\n",
        "        if  (partitions == None) : return Node(sample_set,is_leaf= True)\n",
        "        node= Node(sample_set,is_leaf= False,split_value=random_split_value,split_attribut=random_attribut)\n",
        "        node.children=[]\n",
        "        for partition in partitions:\n",
        "          node.children.append(self._iTree(partition,current_height+1,height_limit))\n",
        "        return node\n",
        "  \n",
        "  def _iForest(self,training_set)-> List[Node] :\n",
        "    forest=[]\n",
        "    height_limit= math.ceil(math.log(self.sample_size,2))\n",
        "    for i in range(self.number_of_trees):\n",
        "        sample_set = training_set[np.random.choice(training_set.shape[0], size=self.sample_size, replace=False),:]\n",
        "        forest.append(self._iTree(sample_set,0,height_limit))\n",
        "    return forest\n",
        "  \n",
        "  # Evaluation Stage\n",
        "  @staticmethod  \n",
        "  def _cost(size: int):\n",
        "    pass\n",
        "\n",
        "  @staticmethod\n",
        "  def _path_length(instance,tree: Node,current_path_length):\n",
        "    pass\n",
        "  \n",
        "  @staticmethod\n",
        "  def _anomalie_score(estimated_path,set_size: int):\n",
        "    pass\n",
        "\n",
        "  def score_samples(self,test_set):\n",
        "    pass\n",
        "    \n",
        "  def predict(self, test_set) :\n",
        "    predictions = [] \n",
        "    scores = self.score_samples(test_set)\n",
        "    self._generate_threshold(scores)\n",
        "    for score in scores:\n",
        "      predicted_class = 0 if ( score <= self.threshold ) else 1\n",
        "      predictions.append(predicted_class)\n",
        "    return np.array(predictions)"
      ],
      "execution_count": null,
      "outputs": []
    },
    {
      "cell_type": "markdown",
      "metadata": {
        "id": "zwq1w4Rrb5IM"
      },
      "source": [
        "## alpha-cut implementation"
      ]
    },
    {
      "cell_type": "markdown",
      "metadata": {
        "id": "8mD6temN_rpQ"
      },
      "source": [
        "### fuzzifier API (implemented in Scickit fuzzy notebook )"
      ]
    },
    {
      "cell_type": "code",
      "metadata": {
        "id": "geHZwcO5fGa8"
      },
      "source": [
        "from collections import OrderedDict\n",
        "import matplotlib.pyplot as plt\n",
        "import seaborn as sns\n",
        "from pandas.api.types import is_string_dtype\n",
        "from sklearn.preprocessing import OneHotEncoder"
      ],
      "execution_count": null,
      "outputs": []
    },
    {
      "cell_type": "code",
      "metadata": {
        "id": "87LPEzdob4jo"
      },
      "source": [
        "class AlphaCutIForestModel(ICustomIForest):\n",
        "  def __init__(self, number_of_trees: int,sample_size: int = 256,contamination: float = 0.1 ):\n",
        "    super().__init__(number_of_trees,sample_size,contamination)\n",
        "\n",
        "  @staticmethod\n",
        "  def _random_split(sample_set, splitable_attributs = None):\n",
        "    # TODO: implement unsplitable_attributs\n",
        "    if splitable_attributs != None and len(splitable_attributs) ==0: return None, None, None\n",
        "    if splitable_attributs == None: splitable_attributs= [*range(sample_set.shape[1])]\n",
        "    random_attribut=splitable_attributs[np.random.choice(len(splitable_attributs), size=1, replace=False)[0]]\n",
        "    min=np.amin(sample_set[:,[random_attribut]])\n",
        "    max=np.amax(sample_set[:,[random_attribut]])\n",
        "    random_split_value=np.random.uniform(min, max)\n",
        "    left_partition= sample_set[np.where(sample_set[:,random_attribut]<=random_split_value)]\n",
        "    right_partition= sample_set[np.where(sample_set[:,random_attribut]>random_split_value)]\n",
        "    if right_partition.shape[0]*left_partition.shape[0]==0:\n",
        "      # print(\"Invalid partitioning! Retrying...\")\n",
        "      # print(\"min: \"+str(min))\n",
        "      # print(\"max: \"+str(max))\n",
        "      # print(\"split: \"+str(random_split_value))\n",
        "      splitable_attributs.remove(random_attribut)\n",
        "      return AlphaCutIForestModel._random_split(sample_set, splitable_attributs)\n",
        "    partitions= [left_partition, right_partition]\n",
        "    return partitions,random_split_value,random_attribut\n",
        "\n",
        "  def fit(self,set):\n",
        "    if (type(set)):\n",
        "      self.forest = self._iForest(set)\n",
        "    return self.forest\n",
        "\n",
        "  @staticmethod  \n",
        "  def _cost(size: int):\n",
        "    if (size==1): return 0\n",
        "    return 2*(math.log(size-1)+np.euler_gamma-(1-(1/size)))\n",
        "\n",
        "  @staticmethod\n",
        "  def _path_length(instance,tree: Node,current_path_length):\n",
        "    if tree.is_leaf:\n",
        "      return current_path_length+AlphaCutIForestModel._cost(tree.value.shape[0])\n",
        "    if instance[tree.split_attribut]<=tree.split_value:\n",
        "      return AlphaCutIForestModel._path_length(instance,tree.children[0],current_path_length+1)\n",
        "    else:\n",
        "      return AlphaCutIForestModel._path_length(instance,tree.children[1],current_path_length+1)\n",
        "  \n",
        "  @staticmethod\n",
        "  def _anomalie_score(estimated_path,set_size: int):\n",
        "    return math.pow(2,-(estimated_path/AlphaCutIForestModel._cost(set_size)))\n",
        "\n",
        "  def score_samples(self,test_set):\n",
        "    if not(self.forest):\n",
        "      return Null\n",
        "    scores=[]\n",
        "    forest_size=len(self.forest)\n",
        "    for i in range(test_set.shape[0]):\n",
        "      instance= test_set[i,:]    \n",
        "      s=0\n",
        "      for j in range(forest_size):\n",
        "        s += AlphaCutIForestModel._path_length(instance,self.forest[j],0)\n",
        "      score = AlphaCutIForestModel._anomalie_score(s/forest_size,forest_size)\n",
        "      scores.append(score)\n",
        "    return np.array(scores)"
      ],
      "execution_count": null,
      "outputs": []
    },
    {
      "cell_type": "code",
      "metadata": {
        "colab": {
          "base_uri": "https://localhost:8080/",
          "height": 195
        },
        "id": "gw-FI7VDKexZ",
        "outputId": "bbec2176-c897-4d9a-b43b-5878b6955c22"
      },
      "source": [
        "# we will be using the mullcross dataset\n",
        "dataset = openml.datasets.get_dataset(40897)\n",
        "X, y, categorical_indicator, attribute_names = dataset.get_data(\n",
        "    dataset_format=\"array\", target=dataset.default_target_attribute\n",
        ")\n",
        "mulcross = pd.DataFrame(X, columns=attribute_names)\n",
        "fuzzifier = Fuzzifier(mulcross)\n",
        "fuzzifier.fuzzify()\n",
        "fuzzy_set = fuzzifier.toDataFrame() \n",
        "X_fuzzy = fuzzy_set\n",
        "mulcross[\"class\"] = y\n",
        "#fuzzy_set[\"class\"] = y\n",
        "mulcross.head()"
      ],
      "execution_count": null,
      "outputs": [
        {
          "output_type": "execute_result",
          "data": {
            "text/html": [
              "<div>\n",
              "<style scoped>\n",
              "    .dataframe tbody tr th:only-of-type {\n",
              "        vertical-align: middle;\n",
              "    }\n",
              "\n",
              "    .dataframe tbody tr th {\n",
              "        vertical-align: top;\n",
              "    }\n",
              "\n",
              "    .dataframe thead th {\n",
              "        text-align: right;\n",
              "    }\n",
              "</style>\n",
              "<table border=\"1\" class=\"dataframe\">\n",
              "  <thead>\n",
              "    <tr style=\"text-align: right;\">\n",
              "      <th></th>\n",
              "      <th>V1</th>\n",
              "      <th>V2</th>\n",
              "      <th>V3</th>\n",
              "      <th>V4</th>\n",
              "      <th>class</th>\n",
              "    </tr>\n",
              "  </thead>\n",
              "  <tbody>\n",
              "    <tr>\n",
              "      <th>0</th>\n",
              "      <td>-0.203950</td>\n",
              "      <td>0.363011</td>\n",
              "      <td>1.013766</td>\n",
              "      <td>0.187131</td>\n",
              "      <td>0</td>\n",
              "    </tr>\n",
              "    <tr>\n",
              "      <th>1</th>\n",
              "      <td>-0.761118</td>\n",
              "      <td>2.436424</td>\n",
              "      <td>0.681846</td>\n",
              "      <td>0.654366</td>\n",
              "      <td>0</td>\n",
              "    </tr>\n",
              "    <tr>\n",
              "      <th>2</th>\n",
              "      <td>-0.209979</td>\n",
              "      <td>1.131098</td>\n",
              "      <td>-0.282180</td>\n",
              "      <td>-0.202210</td>\n",
              "      <td>0</td>\n",
              "    </tr>\n",
              "    <tr>\n",
              "      <th>3</th>\n",
              "      <td>0.836812</td>\n",
              "      <td>0.650342</td>\n",
              "      <td>-0.426900</td>\n",
              "      <td>-0.305281</td>\n",
              "      <td>0</td>\n",
              "    </tr>\n",
              "    <tr>\n",
              "      <th>4</th>\n",
              "      <td>0.454204</td>\n",
              "      <td>1.560128</td>\n",
              "      <td>-0.204841</td>\n",
              "      <td>0.219233</td>\n",
              "      <td>0</td>\n",
              "    </tr>\n",
              "  </tbody>\n",
              "</table>\n",
              "</div>"
            ],
            "text/plain": [
              "         V1        V2        V3        V4  class\n",
              "0 -0.203950  0.363011  1.013766  0.187131      0\n",
              "1 -0.761118  2.436424  0.681846  0.654366      0\n",
              "2 -0.209979  1.131098 -0.282180 -0.202210      0\n",
              "3  0.836812  0.650342 -0.426900 -0.305281      0\n",
              "4  0.454204  1.560128 -0.204841  0.219233      0"
            ]
          },
          "metadata": {
            "tags": []
          },
          "execution_count": 58
        }
      ]
    },
    {
      "cell_type": "code",
      "metadata": {
        "colab": {
          "base_uri": "https://localhost:8080/",
          "height": 195
        },
        "id": "O8Ww1JzZLdpq",
        "outputId": "b3eefd5d-76c6-4a80-af2b-7b0532fede29"
      },
      "source": [
        "fuzzy_set.head()"
      ],
      "execution_count": null,
      "outputs": [
        {
          "output_type": "execute_result",
          "data": {
            "text/html": [
              "<div>\n",
              "<style scoped>\n",
              "    .dataframe tbody tr th:only-of-type {\n",
              "        vertical-align: middle;\n",
              "    }\n",
              "\n",
              "    .dataframe tbody tr th {\n",
              "        vertical-align: top;\n",
              "    }\n",
              "\n",
              "    .dataframe thead th {\n",
              "        text-align: right;\n",
              "    }\n",
              "</style>\n",
              "<table border=\"1\" class=\"dataframe\">\n",
              "  <thead>\n",
              "    <tr style=\"text-align: right;\">\n",
              "      <th></th>\n",
              "      <th>V1;poor</th>\n",
              "      <th>V1;average</th>\n",
              "      <th>V1;good</th>\n",
              "      <th>V2;poor</th>\n",
              "      <th>V2;average</th>\n",
              "      <th>V2;good</th>\n",
              "      <th>V3;poor</th>\n",
              "      <th>V3;average</th>\n",
              "      <th>V3;good</th>\n",
              "      <th>V4;poor</th>\n",
              "      <th>V4;average</th>\n",
              "      <th>V4;good</th>\n",
              "    </tr>\n",
              "  </thead>\n",
              "  <tbody>\n",
              "    <tr>\n",
              "      <th>0</th>\n",
              "      <td>0.023579</td>\n",
              "      <td>0.976421</td>\n",
              "      <td>0.000000</td>\n",
              "      <td>0.0</td>\n",
              "      <td>0.954010</td>\n",
              "      <td>0.045990</td>\n",
              "      <td>0.000000</td>\n",
              "      <td>0.642930</td>\n",
              "      <td>0.357070</td>\n",
              "      <td>0.000000</td>\n",
              "      <td>0.851410</td>\n",
              "      <td>0.148590</td>\n",
              "    </tr>\n",
              "    <tr>\n",
              "      <th>1</th>\n",
              "      <td>0.146758</td>\n",
              "      <td>0.853242</td>\n",
              "      <td>0.000000</td>\n",
              "      <td>0.0</td>\n",
              "      <td>0.484340</td>\n",
              "      <td>0.515660</td>\n",
              "      <td>0.000000</td>\n",
              "      <td>0.759904</td>\n",
              "      <td>0.240096</td>\n",
              "      <td>0.000000</td>\n",
              "      <td>0.691427</td>\n",
              "      <td>0.308573</td>\n",
              "    </tr>\n",
              "    <tr>\n",
              "      <th>2</th>\n",
              "      <td>0.024912</td>\n",
              "      <td>0.975088</td>\n",
              "      <td>0.000000</td>\n",
              "      <td>0.0</td>\n",
              "      <td>0.780023</td>\n",
              "      <td>0.219977</td>\n",
              "      <td>0.099642</td>\n",
              "      <td>0.900358</td>\n",
              "      <td>0.000000</td>\n",
              "      <td>0.000000</td>\n",
              "      <td>0.984722</td>\n",
              "      <td>0.015278</td>\n",
              "    </tr>\n",
              "    <tr>\n",
              "      <th>3</th>\n",
              "      <td>0.000000</td>\n",
              "      <td>0.793486</td>\n",
              "      <td>0.206514</td>\n",
              "      <td>0.0</td>\n",
              "      <td>0.888924</td>\n",
              "      <td>0.111076</td>\n",
              "      <td>0.150643</td>\n",
              "      <td>0.849357</td>\n",
              "      <td>0.000000</td>\n",
              "      <td>0.020014</td>\n",
              "      <td>0.979986</td>\n",
              "      <td>0.000000</td>\n",
              "    </tr>\n",
              "    <tr>\n",
              "      <th>4</th>\n",
              "      <td>0.000000</td>\n",
              "      <td>0.878073</td>\n",
              "      <td>0.121927</td>\n",
              "      <td>0.0</td>\n",
              "      <td>0.682839</td>\n",
              "      <td>0.317161</td>\n",
              "      <td>0.072386</td>\n",
              "      <td>0.927614</td>\n",
              "      <td>0.000000</td>\n",
              "      <td>0.000000</td>\n",
              "      <td>0.840418</td>\n",
              "      <td>0.159582</td>\n",
              "    </tr>\n",
              "  </tbody>\n",
              "</table>\n",
              "</div>"
            ],
            "text/plain": [
              "    V1;poor  V1;average   V1;good  ...   V4;poor  V4;average   V4;good\n",
              "0  0.023579    0.976421  0.000000  ...  0.000000    0.851410  0.148590\n",
              "1  0.146758    0.853242  0.000000  ...  0.000000    0.691427  0.308573\n",
              "2  0.024912    0.975088  0.000000  ...  0.000000    0.984722  0.015278\n",
              "3  0.000000    0.793486  0.206514  ...  0.020014    0.979986  0.000000\n",
              "4  0.000000    0.878073  0.121927  ...  0.000000    0.840418  0.159582\n",
              "\n",
              "[5 rows x 12 columns]"
            ]
          },
          "metadata": {
            "tags": []
          },
          "execution_count": 59
        }
      ]
    },
    {
      "cell_type": "code",
      "metadata": {
        "colab": {
          "base_uri": "https://localhost:8080/"
        },
        "id": "ysAutgmyKwEa",
        "outputId": "33debf68-cede-4876-f43a-2b603b89a4a5"
      },
      "source": [
        "#train-test splitting\n",
        "X_train,X_test, y_train,y_test=train_test_split(X_fuzzy,y,random_state=42,test_size=0.1)\n",
        "print(\"shape of X :\",X_fuzzy.shape)\n",
        "print(\"shape of X_train:\", X_train.shape)\n",
        "print(\"shape of X_test:\", X_test.shape)"
      ],
      "execution_count": null,
      "outputs": [
        {
          "output_type": "stream",
          "text": [
            "shape of X : (262144, 12)\n",
            "shape of X_train: (235929, 12)\n",
            "shape of X_test: (26215, 12)\n"
          ],
          "name": "stdout"
        }
      ]
    },
    {
      "cell_type": "code",
      "metadata": {
        "colab": {
          "base_uri": "https://localhost:8080/",
          "height": 402
        },
        "id": "BxBsAed5ohCr",
        "outputId": "b040e8ec-6fd4-4d5d-aed2-6fcd15b623d7"
      },
      "source": [
        "X_train"
      ],
      "execution_count": null,
      "outputs": [
        {
          "output_type": "execute_result",
          "data": {
            "text/html": [
              "<div>\n",
              "<style scoped>\n",
              "    .dataframe tbody tr th:only-of-type {\n",
              "        vertical-align: middle;\n",
              "    }\n",
              "\n",
              "    .dataframe tbody tr th {\n",
              "        vertical-align: top;\n",
              "    }\n",
              "\n",
              "    .dataframe thead th {\n",
              "        text-align: right;\n",
              "    }\n",
              "</style>\n",
              "<table border=\"1\" class=\"dataframe\">\n",
              "  <thead>\n",
              "    <tr style=\"text-align: right;\">\n",
              "      <th></th>\n",
              "      <th>V1;poor</th>\n",
              "      <th>V1;average</th>\n",
              "      <th>V1;good</th>\n",
              "      <th>V2;poor</th>\n",
              "      <th>V2;average</th>\n",
              "      <th>V2;good</th>\n",
              "      <th>V3;poor</th>\n",
              "      <th>V3;average</th>\n",
              "      <th>V3;good</th>\n",
              "      <th>V4;poor</th>\n",
              "      <th>V4;average</th>\n",
              "      <th>V4;good</th>\n",
              "    </tr>\n",
              "  </thead>\n",
              "  <tbody>\n",
              "    <tr>\n",
              "      <th>169183</th>\n",
              "      <td>0.000000</td>\n",
              "      <td>0.835173</td>\n",
              "      <td>0.164827</td>\n",
              "      <td>0.321015</td>\n",
              "      <td>0.678985</td>\n",
              "      <td>0.000000</td>\n",
              "      <td>0.000000</td>\n",
              "      <td>0.063161</td>\n",
              "      <td>0.936839</td>\n",
              "      <td>0.000000</td>\n",
              "      <td>0.082669</td>\n",
              "      <td>0.917331</td>\n",
              "    </tr>\n",
              "    <tr>\n",
              "      <th>212989</th>\n",
              "      <td>0.000000</td>\n",
              "      <td>0.788247</td>\n",
              "      <td>0.211753</td>\n",
              "      <td>0.309118</td>\n",
              "      <td>0.690882</td>\n",
              "      <td>0.000000</td>\n",
              "      <td>0.000000</td>\n",
              "      <td>0.110546</td>\n",
              "      <td>0.889454</td>\n",
              "      <td>0.000000</td>\n",
              "      <td>0.114697</td>\n",
              "      <td>0.885303</td>\n",
              "    </tr>\n",
              "    <tr>\n",
              "      <th>200814</th>\n",
              "      <td>0.189029</td>\n",
              "      <td>0.810971</td>\n",
              "      <td>0.000000</td>\n",
              "      <td>0.059737</td>\n",
              "      <td>0.940263</td>\n",
              "      <td>0.000000</td>\n",
              "      <td>0.000000</td>\n",
              "      <td>0.941340</td>\n",
              "      <td>0.058660</td>\n",
              "      <td>0.000000</td>\n",
              "      <td>0.948290</td>\n",
              "      <td>0.051710</td>\n",
              "    </tr>\n",
              "    <tr>\n",
              "      <th>159603</th>\n",
              "      <td>0.050430</td>\n",
              "      <td>0.949570</td>\n",
              "      <td>0.000000</td>\n",
              "      <td>0.047063</td>\n",
              "      <td>0.952937</td>\n",
              "      <td>0.000000</td>\n",
              "      <td>0.102052</td>\n",
              "      <td>0.897948</td>\n",
              "      <td>0.000000</td>\n",
              "      <td>0.000000</td>\n",
              "      <td>0.783294</td>\n",
              "      <td>0.216705</td>\n",
              "    </tr>\n",
              "    <tr>\n",
              "      <th>13691</th>\n",
              "      <td>0.195273</td>\n",
              "      <td>0.804727</td>\n",
              "      <td>0.000000</td>\n",
              "      <td>0.337432</td>\n",
              "      <td>0.662568</td>\n",
              "      <td>0.000000</td>\n",
              "      <td>0.000000</td>\n",
              "      <td>0.857919</td>\n",
              "      <td>0.142081</td>\n",
              "      <td>0.000000</td>\n",
              "      <td>0.913130</td>\n",
              "      <td>0.086870</td>\n",
              "    </tr>\n",
              "    <tr>\n",
              "      <th>...</th>\n",
              "      <td>...</td>\n",
              "      <td>...</td>\n",
              "      <td>...</td>\n",
              "      <td>...</td>\n",
              "      <td>...</td>\n",
              "      <td>...</td>\n",
              "      <td>...</td>\n",
              "      <td>...</td>\n",
              "      <td>...</td>\n",
              "      <td>...</td>\n",
              "      <td>...</td>\n",
              "      <td>...</td>\n",
              "    </tr>\n",
              "    <tr>\n",
              "      <th>259178</th>\n",
              "      <td>0.000000</td>\n",
              "      <td>0.806419</td>\n",
              "      <td>0.193581</td>\n",
              "      <td>0.171359</td>\n",
              "      <td>0.828641</td>\n",
              "      <td>0.000000</td>\n",
              "      <td>0.024321</td>\n",
              "      <td>0.975680</td>\n",
              "      <td>0.000000</td>\n",
              "      <td>0.036350</td>\n",
              "      <td>0.963650</td>\n",
              "      <td>0.000000</td>\n",
              "    </tr>\n",
              "    <tr>\n",
              "      <th>103694</th>\n",
              "      <td>0.000000</td>\n",
              "      <td>0.975505</td>\n",
              "      <td>0.024495</td>\n",
              "      <td>0.000000</td>\n",
              "      <td>0.755167</td>\n",
              "      <td>0.244833</td>\n",
              "      <td>0.000000</td>\n",
              "      <td>0.970873</td>\n",
              "      <td>0.029127</td>\n",
              "      <td>0.000000</td>\n",
              "      <td>0.724545</td>\n",
              "      <td>0.275455</td>\n",
              "    </tr>\n",
              "    <tr>\n",
              "      <th>131932</th>\n",
              "      <td>0.488351</td>\n",
              "      <td>0.511648</td>\n",
              "      <td>0.000000</td>\n",
              "      <td>0.000000</td>\n",
              "      <td>0.957279</td>\n",
              "      <td>0.042721</td>\n",
              "      <td>0.534348</td>\n",
              "      <td>0.465652</td>\n",
              "      <td>0.000000</td>\n",
              "      <td>0.000000</td>\n",
              "      <td>0.695496</td>\n",
              "      <td>0.304504</td>\n",
              "    </tr>\n",
              "    <tr>\n",
              "      <th>146867</th>\n",
              "      <td>0.000000</td>\n",
              "      <td>0.986867</td>\n",
              "      <td>0.013133</td>\n",
              "      <td>0.000000</td>\n",
              "      <td>0.798101</td>\n",
              "      <td>0.201899</td>\n",
              "      <td>0.027340</td>\n",
              "      <td>0.972660</td>\n",
              "      <td>0.000000</td>\n",
              "      <td>0.037444</td>\n",
              "      <td>0.962556</td>\n",
              "      <td>0.000000</td>\n",
              "    </tr>\n",
              "    <tr>\n",
              "      <th>121958</th>\n",
              "      <td>0.000000</td>\n",
              "      <td>0.706402</td>\n",
              "      <td>0.293598</td>\n",
              "      <td>0.000000</td>\n",
              "      <td>0.972619</td>\n",
              "      <td>0.027381</td>\n",
              "      <td>0.000000</td>\n",
              "      <td>0.834406</td>\n",
              "      <td>0.165594</td>\n",
              "      <td>0.000000</td>\n",
              "      <td>0.947572</td>\n",
              "      <td>0.052428</td>\n",
              "    </tr>\n",
              "  </tbody>\n",
              "</table>\n",
              "<p>235929 rows × 12 columns</p>\n",
              "</div>"
            ],
            "text/plain": [
              "         V1;poor  V1;average   V1;good  ...   V4;poor  V4;average   V4;good\n",
              "169183  0.000000    0.835173  0.164827  ...  0.000000    0.082669  0.917331\n",
              "212989  0.000000    0.788247  0.211753  ...  0.000000    0.114697  0.885303\n",
              "200814  0.189029    0.810971  0.000000  ...  0.000000    0.948290  0.051710\n",
              "159603  0.050430    0.949570  0.000000  ...  0.000000    0.783294  0.216705\n",
              "13691   0.195273    0.804727  0.000000  ...  0.000000    0.913130  0.086870\n",
              "...          ...         ...       ...  ...       ...         ...       ...\n",
              "259178  0.000000    0.806419  0.193581  ...  0.036350    0.963650  0.000000\n",
              "103694  0.000000    0.975505  0.024495  ...  0.000000    0.724545  0.275455\n",
              "131932  0.488351    0.511648  0.000000  ...  0.000000    0.695496  0.304504\n",
              "146867  0.000000    0.986867  0.013133  ...  0.037444    0.962556  0.000000\n",
              "121958  0.000000    0.706402  0.293598  ...  0.000000    0.947572  0.052428\n",
              "\n",
              "[235929 rows x 12 columns]"
            ]
          },
          "metadata": {
            "tags": []
          },
          "execution_count": 61
        }
      ]
    },
    {
      "cell_type": "code",
      "metadata": {
        "id": "3ASy8oYoc-ni"
      },
      "source": [
        "model = AlphaCutIForestModel(100)\n",
        "\n",
        "forest = model.fit(X_train.to_numpy())"
      ],
      "execution_count": null,
      "outputs": []
    },
    {
      "cell_type": "code",
      "metadata": {
        "id": "mZ4AbcMRemse"
      },
      "source": [
        "scores = model.score_samples(X_test.to_numpy())\n",
        "predictions = model.predict(X_test.to_numpy())"
      ],
      "execution_count": null,
      "outputs": []
    },
    {
      "cell_type": "code",
      "metadata": {
        "id": "qTpeYNviju3Z",
        "colab": {
          "base_uri": "https://localhost:8080/"
        },
        "outputId": "0cfff87f-76d2-4596-87f6-7e58dabef09c"
      },
      "source": [
        "data=pd.DataFrame(predictions)\n",
        "data.value_counts()"
      ],
      "execution_count": null,
      "outputs": [
        {
          "output_type": "execute_result",
          "data": {
            "text/plain": [
              "0    23593\n",
              "1     2622\n",
              "dtype: int64"
            ]
          },
          "metadata": {
            "tags": []
          },
          "execution_count": 64
        }
      ]
    },
    {
      "cell_type": "code",
      "metadata": {
        "id": "yi_r0Y_omBah",
        "colab": {
          "base_uri": "https://localhost:8080/"
        },
        "outputId": "6901b832-09b1-492c-e799-4b2448239b74"
      },
      "source": [
        "# AUC Score via scores samples\n",
        "\n",
        "from sklearn.metrics import roc_auc_score\n",
        "my_auc=roc_auc_score(y_test,scores)\n",
        "my_auc"
      ],
      "execution_count": null,
      "outputs": [
        {
          "output_type": "execute_result",
          "data": {
            "text/plain": [
              "0.9553048381146069"
            ]
          },
          "metadata": {
            "tags": []
          },
          "execution_count": 65
        }
      ]
    },
    {
      "cell_type": "code",
      "metadata": {
        "id": "EJ7TNZ7ioWFE",
        "colab": {
          "base_uri": "https://localhost:8080/"
        },
        "outputId": "e606012d-da34-40ae-f90b-01b6450c444d"
      },
      "source": [
        ""
      ],
      "execution_count": null,
      "outputs": [
        {
          "output_type": "execute_result",
          "data": {
            "text/plain": [
              "[range(0, 10)]"
            ]
          },
          "metadata": {
            "tags": []
          },
          "execution_count": 66
        }
      ]
    },
    {
      "cell_type": "code",
      "metadata": {
        "id": "-Osy0fYr6unq"
      },
      "source": [
        ""
      ],
      "execution_count": null,
      "outputs": []
    }
  ]
}