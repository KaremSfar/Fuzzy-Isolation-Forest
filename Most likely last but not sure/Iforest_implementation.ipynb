{
  "nbformat": 4,
  "nbformat_minor": 0,
  "metadata": {
    "colab": {
      "name": "Iforest_implementation.ipynb",
      "provenance": [],
      "collapsed_sections": []
    },
    "kernelspec": {
      "name": "python3",
      "display_name": "Python 3",
      "language": "python"
    },
    "language_info": {
      "name": "python",
      "version": "3.8.3-final"
    }
  },
  "cells": [
    {
      "cell_type": "markdown",
      "metadata": {
        "id": "RPqfgceGzuLP"
      },
      "source": [
        "# Imports"
      ]
    },
    {
      "cell_type": "code",
      "metadata": {
        "id": "_EhwlSpLzyjG"
      },
      "source": [
        "import warnings\n",
        "warnings.simplefilter('ignore')"
      ],
      "execution_count": 1,
      "outputs": []
    },
    {
      "cell_type": "code",
      "metadata": {
        "colab": {
          "base_uri": "https://localhost:8080/"
        },
        "id": "iEumJz11z1MF",
        "outputId": "7cc40311-6c9d-471b-f976-536173fc8a28"
      },
      "source": [
        "!pip install openml"
      ],
      "execution_count": 2,
      "outputs": [
        {
          "output_type": "stream",
          "name": "stdout",
          "text": [
            "Requirement already satisfied: openml in c:\\programdata\\anaconda3\\lib\\site-packages (0.11.0)\nRequirement already satisfied: xmltodict in c:\\programdata\\anaconda3\\lib\\site-packages (from openml) (0.12.0)\nRequirement already satisfied: scikit-learn>=0.18 in c:\\programdata\\anaconda3\\lib\\site-packages (from openml) (0.23.1)\nRequirement already satisfied: scipy>=0.13.3 in c:\\programdata\\anaconda3\\lib\\site-packages (from openml) (1.5.0)\nRequirement already satisfied: python-dateutil in c:\\programdata\\anaconda3\\lib\\site-packages (from openml) (2.8.1)\nRequirement already satisfied: numpy>=1.6.2 in c:\\programdata\\anaconda3\\lib\\site-packages (from openml) (1.18.5)\nRequirement already satisfied: pandas>=1.0.0 in c:\\programdata\\anaconda3\\lib\\site-packages (from openml) (1.0.5)\nRequirement already satisfied: liac-arff>=2.4.0 in c:\\programdata\\anaconda3\\lib\\site-packages (from openml) (2.5.0)\nRequirement already satisfied: requests in c:\\programdata\\anaconda3\\lib\\site-packages (from openml) (2.24.0)\nRequirement already satisfied: joblib>=0.11 in c:\\programdata\\anaconda3\\lib\\site-packages (from scikit-learn>=0.18->openml) (0.16.0)\nRequirement already satisfied: threadpoolctl>=2.0.0 in c:\\programdata\\anaconda3\\lib\\site-packages (from scikit-learn>=0.18->openml) (2.1.0)\nRequirement already satisfied: six>=1.5 in c:\\programdata\\anaconda3\\lib\\site-packages (from python-dateutil->openml) (1.15.0)\nRequirement already satisfied: pytz>=2017.2 in c:\\programdata\\anaconda3\\lib\\site-packages (from pandas>=1.0.0->openml) (2020.1)\nRequirement already satisfied: chardet<4,>=3.0.2 in c:\\programdata\\anaconda3\\lib\\site-packages (from requests->openml) (3.0.4)\nRequirement already satisfied: urllib3!=1.25.0,!=1.25.1,<1.26,>=1.21.1 in c:\\programdata\\anaconda3\\lib\\site-packages (from requests->openml) (1.25.9)\nRequirement already satisfied: idna<3,>=2.5 in c:\\programdata\\anaconda3\\lib\\site-packages (from requests->openml) (2.10)\nRequirement already satisfied: certifi>=2017.4.17 in c:\\programdata\\anaconda3\\lib\\site-packages (from requests->openml) (2020.6.20)\n"
          ]
        }
      ]
    },
    {
      "cell_type": "code",
      "metadata": {
        "id": "g3jCIqEVz7vt"
      },
      "source": [
        "import math\n",
        "import openml\n",
        "import pandas as pd\n",
        "from sklearn.model_selection import train_test_split\n",
        "from sklearn.utils import shuffle\n",
        "from sklearn.ensemble import IsolationForest\n",
        "import numpy as np"
      ],
      "execution_count": 3,
      "outputs": []
    },
    {
      "cell_type": "markdown",
      "metadata": {
        "id": "S-NQh-5P0M0d"
      },
      "source": [
        "# Implementation"
      ]
    },
    {
      "cell_type": "code",
      "metadata": {
        "id": "GBjOYbVY0Lue"
      },
      "source": [
        "class Node:\n",
        "\n",
        "    def __init__(self, value, left=None, right=None,is_leaf=False,split_value=None,split_attribut=None):\n",
        "        self.value = value  \n",
        "        self.left = left    \n",
        "        self.right = right\n",
        "        self.is_leaf = is_leaf\n",
        "        self.split_value=split_value\n",
        "        self.split_attribut=split_attribut  "
      ],
      "execution_count": 4,
      "outputs": []
    },
    {
      "cell_type": "code",
      "metadata": {
        "id": "1qFZdLJacJvT"
      },
      "source": [
        "from typing import List"
      ],
      "execution_count": 5,
      "outputs": []
    },
    {
      "cell_type": "code",
      "metadata": {
        "id": "9-PRxu4R0TJF"
      },
      "source": [
        "class CustomIForestModel:\n",
        "\n",
        "  def __init__(self, number_of_trees: int,sample_size: int = 256,contamination: float = 0.1 ):\n",
        "    self.number_of_trees = number_of_trees\n",
        "    self.sample_size = sample_size\n",
        "    self.forest: List[Node] = None\n",
        "    self.contamination = contamination\n",
        "    self.threshold = None\n",
        "\n",
        "  def fit(self,set):\n",
        "    self.forest = self.__iForest(set)\n",
        "    return self.forest\n",
        "\n",
        "  def __generate_threshold(self,scores):\n",
        "    self.threshold = np.percentile(scores,(1-self.contamination)*100)\n",
        "\n",
        "  #training Stage \n",
        "  @staticmethod \n",
        "  def __random_split(sample_set):\n",
        "    random_attribut=np.random.choice(sample_set.shape[1], size=1, replace=False)[0]\n",
        "    min=np.amin(sample_set[:,[random_attribut]])\n",
        "    max=np.amax(sample_set[:,[random_attribut]])\n",
        "    random_split_value=np.random.uniform(min, max)\n",
        "    left_partition= sample_set[np.where(sample_set[:,random_attribut]<=random_split_value)]\n",
        "    right_partition= sample_set[np.where(sample_set[:,random_attribut]>random_split_value)]\n",
        "    if right_partition.shape[0]*left_partition.shape[0]==0:\n",
        "      #print(\"Invalid partitioning! Retrying...\")\n",
        "      return CustomIForestModel.__random_split(sample_set)\n",
        "    return left_partition,right_partition,random_split_value,random_attribut\n",
        "  \n",
        "  @staticmethod\n",
        "  def __iTree(sample_set,current_height: int,height_limit):\n",
        "    if current_height>= height_limit or sample_set.shape[0]<=1:\n",
        "        return Node(sample_set,is_leaf= True)\n",
        "    else:\n",
        "        left_partition,right_partition,random_split_value,random_attribut= CustomIForestModel.__random_split(sample_set)\n",
        "        node= Node(sample_set,is_leaf= False,split_value=random_split_value,split_attribut=random_attribut)\n",
        "        node.left=CustomIForestModel.__iTree(left_partition,current_height+1,height_limit)\n",
        "        node.right=CustomIForestModel.__iTree(right_partition,current_height+1,height_limit)\n",
        "        return node\n",
        "  \n",
        "  def __iForest(self,training_set)-> List[Node] :\n",
        "    forest=[]\n",
        "    height_limit= math.ceil(math.log(self.sample_size,2))\n",
        "    for i in range(self.number_of_trees):\n",
        "        sample_set = training_set[np.random.choice(training_set.shape[0], size=self.sample_size, replace=False),:]\n",
        "        forest.append(CustomIForestModel.__iTree(sample_set,0,height_limit))\n",
        "    return forest\n",
        "  \n",
        "  # Evaluation Stage\n",
        "  @staticmethod  \n",
        "  def __cost(size: int):\n",
        "    if (size==1): return 0\n",
        "    return 2*(math.log(size-1)+np.euler_gamma-(1-(1/size)))\n",
        "\n",
        "  @staticmethod\n",
        "  def __path_length(instance,tree: Node,current_path_length):\n",
        "    if tree.is_leaf:\n",
        "      return current_path_length+CustomIForestModel.__cost(tree.value.shape[0])\n",
        "    if instance[tree.split_attribut]<=tree.split_value:\n",
        "      return CustomIForestModel.__path_length(instance,tree.left,current_path_length+1)\n",
        "    else:\n",
        "      return CustomIForestModel.__path_length(instance,tree.right,current_path_length+1)\n",
        "  \n",
        "  @staticmethod\n",
        "  def __anomalie_score(estimated_path,set_size: int):\n",
        "    return math.pow(2,-(estimated_path/CustomIForestModel.__cost(set_size)))\n",
        "\n",
        "  def score_samples(self,test_set):\n",
        "    if not(self.forest):\n",
        "      return Null\n",
        "    scores=[]\n",
        "    forest_size=len(self.forest)\n",
        "    for i in range(test_set.shape[0]):\n",
        "      instance= test_set[i,:]    \n",
        "      s=0\n",
        "      for j in range(forest_size):\n",
        "        s += CustomIForestModel.__path_length(instance,self.forest[j],0)\n",
        "      score = CustomIForestModel.__anomalie_score(s/forest_size,forest_size)\n",
        "      scores.append(score)\n",
        "    return np.array(scores)\n",
        "    \n",
        "  def predict(self, test_set) :\n",
        "    predictions = [] \n",
        "    scores = self.score_samples(test_set)\n",
        "    self.__generate_threshold(scores)\n",
        "    for score in scores:\n",
        "      predicted_class = 0 if ( score <= self.threshold ) else 1\n",
        "      predictions.append(predicted_class)\n",
        "    return np.array(predictions)\n"
      ],
      "execution_count": 20,
      "outputs": []
    },
    {
      "cell_type": "markdown",
      "metadata": {
        "id": "0hnAX8_KcVeS"
      },
      "source": [
        "# Testing new implementation"
      ]
    },
    {
      "cell_type": "code",
      "metadata": {
        "colab": {
          "base_uri": "https://localhost:8080/",
          "height": 195
        },
        "id": "nnN4_Y2rcNKz",
        "outputId": "27780a7b-e54f-4b72-bc2d-a94a8d0cd809"
      },
      "source": [
        "# we will be using the mullcross dataset\n",
        "dataset = openml.datasets.get_dataset(40897)\n",
        "X, y, categorical_indicator, attribute_names = dataset.get_data(\n",
        "    dataset_format=\"array\", target=dataset.default_target_attribute\n",
        ")\n",
        "mulcross = pd.DataFrame(X, columns=attribute_names)\n",
        "mulcross[\"class\"] = y\n",
        "mulcross.head()"
      ],
      "execution_count": 7,
      "outputs": [
        {
          "output_type": "execute_result",
          "data": {
            "text/plain": [
              "         V1        V2        V3        V4  class\n",
              "0 -0.203950  0.363011  1.013766  0.187131      0\n",
              "1 -0.761118  2.436424  0.681846  0.654366      0\n",
              "2 -0.209979  1.131098 -0.282180 -0.202210      0\n",
              "3  0.836812  0.650342 -0.426900 -0.305281      0\n",
              "4  0.454204  1.560128 -0.204841  0.219233      0"
            ],
            "text/html": "<div>\n<style scoped>\n    .dataframe tbody tr th:only-of-type {\n        vertical-align: middle;\n    }\n\n    .dataframe tbody tr th {\n        vertical-align: top;\n    }\n\n    .dataframe thead th {\n        text-align: right;\n    }\n</style>\n<table border=\"1\" class=\"dataframe\">\n  <thead>\n    <tr style=\"text-align: right;\">\n      <th></th>\n      <th>V1</th>\n      <th>V2</th>\n      <th>V3</th>\n      <th>V4</th>\n      <th>class</th>\n    </tr>\n  </thead>\n  <tbody>\n    <tr>\n      <th>0</th>\n      <td>-0.203950</td>\n      <td>0.363011</td>\n      <td>1.013766</td>\n      <td>0.187131</td>\n      <td>0</td>\n    </tr>\n    <tr>\n      <th>1</th>\n      <td>-0.761118</td>\n      <td>2.436424</td>\n      <td>0.681846</td>\n      <td>0.654366</td>\n      <td>0</td>\n    </tr>\n    <tr>\n      <th>2</th>\n      <td>-0.209979</td>\n      <td>1.131098</td>\n      <td>-0.282180</td>\n      <td>-0.202210</td>\n      <td>0</td>\n    </tr>\n    <tr>\n      <th>3</th>\n      <td>0.836812</td>\n      <td>0.650342</td>\n      <td>-0.426900</td>\n      <td>-0.305281</td>\n      <td>0</td>\n    </tr>\n    <tr>\n      <th>4</th>\n      <td>0.454204</td>\n      <td>1.560128</td>\n      <td>-0.204841</td>\n      <td>0.219233</td>\n      <td>0</td>\n    </tr>\n  </tbody>\n</table>\n</div>"
          },
          "metadata": {},
          "execution_count": 7
        }
      ]
    },
    {
      "cell_type": "code",
      "metadata": {
        "colab": {
          "base_uri": "https://localhost:8080/"
        },
        "id": "-6d5Q721lYi4",
        "outputId": "3dd9f571-d232-4def-f878-dbf5c684a4f2"
      },
      "source": [
        "ds=x=mulcross['class'].value_counts()\n",
        "ds"
      ],
      "execution_count": 8,
      "outputs": [
        {
          "output_type": "execute_result",
          "data": {
            "text/plain": [
              "0    235930\n",
              "1     26214\n",
              "Name: class, dtype: int64"
            ]
          },
          "metadata": {},
          "execution_count": 8
        }
      ]
    },
    {
      "cell_type": "code",
      "metadata": {
        "colab": {
          "base_uri": "https://localhost:8080/"
        },
        "id": "2qO47Z96ckVz",
        "outputId": "c193e746-d74a-4381-9b49-c7f85770ad11"
      },
      "source": [
        "#train-test splitting\n",
        "X_train,X_test, y_train,y_test=train_test_split(X,y,random_state=42,test_size=0.1)\n",
        "print(\"shape of X :\",X.shape)\n",
        "print(\"shape of X_train:\", X_train.shape)\n",
        "print(\"shape of X_test:\", X_test.shape)"
      ],
      "execution_count": 9,
      "outputs": [
        {
          "output_type": "stream",
          "name": "stdout",
          "text": [
            "shape of X : (262144, 4)\nshape of X_train: (235929, 4)\nshape of X_test: (26215, 4)\n"
          ]
        }
      ]
    },
    {
      "cell_type": "code",
      "metadata": {
        "id": "3ASy8oYoc-ni"
      },
      "source": [
        "model = CustomIForestModel(100)\n",
        "forest = model.fit(X_train)"
      ],
      "execution_count": 10,
      "outputs": []
    },
    {
      "cell_type": "code",
      "metadata": {
        "id": "mZ4AbcMRemse"
      },
      "source": [
        "scores = model.score_samples(X_test)\n",
        "predictions = model.predict(X_test)"
      ],
      "execution_count": 11,
      "outputs": []
    },
    {
      "cell_type": "code",
      "metadata": {
        "colab": {
          "base_uri": "https://localhost:8080/"
        },
        "id": "qTpeYNviju3Z",
        "outputId": "c614caec-dad0-4b64-8d68-d39839fe514b"
      },
      "source": [
        "data=pd.DataFrame(predictions)\n",
        "data.iloc[:,0].value_counts()"
      ],
      "execution_count": 17,
      "outputs": [
        {
          "output_type": "execute_result",
          "data": {
            "text/plain": [
              "0    23593\n",
              "1     2622\n",
              "Name: 0, dtype: int64"
            ]
          },
          "metadata": {},
          "execution_count": 17
        }
      ]
    },
    {
      "cell_type": "code",
      "metadata": {
        "colab": {
          "base_uri": "https://localhost:8080/"
        },
        "id": "yi_r0Y_omBah",
        "outputId": "489c2d1b-c25a-45cf-fb7d-292ccf400c9c"
      },
      "source": [
        "# AUC Score via scores samples\n",
        "\n",
        "from sklearn.metrics import roc_auc_score\n",
        "my_auc=roc_auc_score(y_test,scores)\n",
        "my_auc"
      ],
      "execution_count": 18,
      "outputs": [
        {
          "output_type": "execute_result",
          "data": {
            "text/plain": [
              "0.9652994957026633"
            ]
          },
          "metadata": {},
          "execution_count": 18
        }
      ]
    },
    {
      "cell_type": "code",
      "metadata": {
        "colab": {
          "base_uri": "https://localhost:8080/"
        },
        "id": "DASqnvldvXCF",
        "outputId": "70188bce-fb75-422b-9640-3982decb64e2"
      },
      "source": [
        "# AUC Score via predictions\n",
        "\n",
        "from sklearn.metrics import roc_auc_score\n",
        "my_auc=roc_auc_score(y_test,predictions)\n",
        "my_auc"
      ],
      "execution_count": 19,
      "outputs": [
        {
          "output_type": "execute_result",
          "data": {
            "text/plain": [
              "0.7963897872382136"
            ]
          },
          "metadata": {},
          "execution_count": 19
        }
      ]
    }
  ]
}